{
 "cells": [
  {
   "cell_type": "markdown",
   "metadata": {},
   "source": [
    "# Selenium"
   ]
  },
  {
   "cell_type": "markdown",
   "metadata": {},
   "source": [
    "### Getting some fresh Renfe tickets"
   ]
  },
  {
   "cell_type": "code",
   "execution_count": 1,
   "metadata": {},
   "outputs": [],
   "source": [
    "import os\n",
    "import datetime\n",
    "from selenium import webdriver\n",
    "from selenium.webdriver.common.keys import Keys\n",
    "from bs4 import BeautifulSoup\n",
    "import pandas as pd\n",
    "import time"
   ]
  },
  {
   "cell_type": "code",
   "execution_count": 2,
   "metadata": {},
   "outputs": [
    {
     "data": {
      "text/plain": [
       "'/home/cristopherrl/miniconda3/envs/data_env/bin:/home/cristopherrl/miniconda3/condabin:/home/cristopherrl/.local/bin:/usr/local/sbin:/usr/local/bin:/usr/sbin:/usr/bin:/sbin:/bin:/usr/games:/usr/local/games:/snap/bin:/home/cristopherrl/Documents/program/selenium/drivers'"
      ]
     },
     "execution_count": 2,
     "metadata": {},
     "output_type": "execute_result"
    }
   ],
   "source": [
    "os.environ['PATH'] = f'{os.environ[\"PATH\"]}:/home/cristopherrl/Documents/program/selenium/drivers/'\n",
    "os.environ['PATH']"
   ]
  },
  {
   "cell_type": "code",
   "execution_count": 21,
   "metadata": {},
   "outputs": [],
   "source": [
    "ORIGIN = 'MADRID'\n",
    "DESTINATION = 'BARCELONA'\n",
    "\n",
    "# tickets for tomorrow\n",
    "DATE = (datetime.date.today() + datetime.timedelta(days=3)).strftime('%d/%m/%Y')"
   ]
  },
  {
   "cell_type": "code",
   "execution_count": 22,
   "metadata": {},
   "outputs": [],
   "source": [
    "browser = webdriver.Chrome()\n",
    "#browser = webdriver.Firefox('/drivers/geckodriver')\n",
    "browser.get('http://www.renfe.com/')\n",
    "\n",
    "origin = browser.find_element_by_name('desOrigen')\n",
    "origin.send_keys(ORIGIN)\n",
    "origin.send_keys(Keys.ARROW_DOWN)\n",
    "origin.send_keys(Keys.ENTER)\n",
    "\n",
    "destination = browser.find_element_by_name('desDestino')\n",
    "destination.send_keys(DESTINATION)\n",
    "destination.send_keys(Keys.ARROW_DOWN)\n",
    "destination.send_keys(Keys.ENTER)\n",
    "\n",
    "date = browser.find_element_by_name('__fechaIdaVisual')\n",
    "date.send_keys(Keys.BACK_SPACE * 10)\n",
    "date.send_keys(DATE)\n",
    "\n",
    "destination.send_keys(Keys.ENTER)"
   ]
  },
  {
   "cell_type": "code",
   "execution_count": 23,
   "metadata": {},
   "outputs": [
    {
     "name": "stdout",
     "output_type": "stream",
     "text": [
      "https://venta.renfe.com/vol/search.do?c=_KowY\n"
     ]
    }
   ],
   "source": [
    "print(browser.current_url)"
   ]
  },
  {
   "cell_type": "code",
   "execution_count": 24,
   "metadata": {},
   "outputs": [],
   "source": [
    "time.sleep(5)"
   ]
  },
  {
   "cell_type": "code",
   "execution_count": 25,
   "metadata": {},
   "outputs": [
    {
     "data": {
      "text/plain": [
       "'https://venta.renfe.com/vol/search.do?c=_KowY'"
      ]
     },
     "execution_count": 25,
     "metadata": {},
     "output_type": "execute_result"
    }
   ],
   "source": [
    "browser.current_url"
   ]
  },
  {
   "cell_type": "code",
   "execution_count": 26,
   "metadata": {},
   "outputs": [
    {
     "data": {
      "text/plain": [
       "'Salida\\nLlegada\\nDuración\\nServicio\\nPrecio Desde\\nClase\\nTarifa\\nOpciones\\n05.50 08.55 3 h. 5 min. AVE 58,80 € Turista Promo\\n06.30 09.20 2 h. 50 min. AVE 58,80 € Turista Promo\\n07.00 09.30 2 h. 30 min. AVE 69,40 € Turista Promo\\n07.15 16.37 9 h. 22 min. REG.EXP. 43,25 € Turista Adulto ida\\n07.30 10.40 3 h. 10 min. AVE 67,50 € Turista Promo\\n08.00 10.30 2 h. 30 min. AVE 79,65 € Turista Promo\\n08.30 11.15 2 h. 45 min. AVE 108,90 € Turista Flexible\\n09.30 12.34 3 h. 4 min. AVE 130,70 € Turista Plus Flexible\\n10.30 13.15 2 h. 45 min. AVE 99,10 € Preferente Promo\\n11.30 14.40 3 h. 10 min. AVE 91,50 € Turista Plus Promo\\n12.30 15.30 3 h. AVE 183,50 € Preferente Flexible\\n13.25 16.24 2 h. 59 min. AVE-TGV 108,90 € Turista Flexible\\n14.00 16.30 2 h. 30 min. AVE 89,95 € Turista Promo\\n14.30 17.21 2 h. 51 min. AVE 108,90 € Turista\\nSólo plaza H\\nFlexible\\n\\n15.00 17.30 2 h. 30 min. AVE 154,20 € Turista Plus Flexible\\n15.30 18.40 3 h. 10 min. AVE 108,90 € Turista\\nSólo plaza H\\nFlexible\\n\\n16.00 18.30 2 h. 30 min. AVE 216,50 € Preferente Flexible\\n16.30 19.15 2 h. 45 min. AVE 108,90 € Turista\\nSólo plaza H\\nFlexible\\n\\n17.00 19.30 2 h. 30 min. AVE 128,50 € Turista\\nSólo plaza H\\nFlexible\\n\\n17.30 20.40 3 h. 10 min. AVE\\nTren Completo\\n18.00 20.30 2 h. 30 min. AVE 101,50 € Turista Promo\\n18.30 21.20 2 h. 50 min. AVE 108,90 € Turista\\nSólo plaza H\\nFlexible\\n\\n19.00 21.30 2 h. 30 min. AVE 89,95 € Turista Promo\\n19.30 22.40 3 h. 10 min. AVE\\nTren Completo\\n20.00 22.30 2 h. 30 min. AVE 128,50 € Turista Flexible\\n20.30 23.40 3 h. 10 min. AVE 99,10 € Preferente Promo\\n21.25 23.55 2 h. 30 min. AVE 76,25 € Turista Promo'"
      ]
     },
     "execution_count": 26,
     "metadata": {},
     "output_type": "execute_result"
    }
   ],
   "source": [
    "tabla = browser.find_element_by_id('tab-listado')\n",
    "tabla.text"
   ]
  },
  {
   "cell_type": "code",
   "execution_count": 27,
   "metadata": {},
   "outputs": [
    {
     "data": {
      "text/plain": [
       "<selenium.webdriver.remote.webelement.WebElement (session=\"8d616d8a1bb283aecdd71a773d86294d\", element=\"f632dc7f-5de6-4ad7-ad4b-977ae32791ca\")>"
      ]
     },
     "execution_count": 27,
     "metadata": {},
     "output_type": "execute_result"
    }
   ],
   "source": [
    "tabla"
   ]
  },
  {
   "cell_type": "code",
   "execution_count": null,
   "metadata": {},
   "outputs": [],
   "source": []
  }
 ],
 "metadata": {
  "kernelspec": {
   "display_name": "Python [conda env:data_env]",
   "language": "python",
   "name": "conda-env-data_env-py"
  },
  "language_info": {
   "codemirror_mode": {
    "name": "ipython",
    "version": 3
   },
   "file_extension": ".py",
   "mimetype": "text/x-python",
   "name": "python",
   "nbconvert_exporter": "python",
   "pygments_lexer": "ipython3",
   "version": "3.7.5"
  }
 },
 "nbformat": 4,
 "nbformat_minor": 4
}
