{
 "cells": [
  {
   "cell_type": "markdown",
   "metadata": {},
   "source": [
    "1. Import the NUMPY package under the name np.\n",
    "\n"
   ]
  },
  {
   "cell_type": "code",
   "execution_count": 1,
   "metadata": {},
   "outputs": [],
   "source": [
    "import numpy as np"
   ]
  },
  {
   "cell_type": "markdown",
   "metadata": {},
   "source": [
    "2. Print the NUMPY version and the configuration."
   ]
  },
  {
   "cell_type": "code",
   "execution_count": 2,
   "metadata": {},
   "outputs": [
    {
     "name": "stdout",
     "output_type": "stream",
     "text": [
      "1.17.2\n"
     ]
    }
   ],
   "source": [
    "print(np.version.version)"
   ]
  },
  {
   "cell_type": "markdown",
   "metadata": {},
   "source": [
    "3. Generate a 2x3x5 3-dimensional array with random values. Assign the array to variable \"a\"\n",
    "Challenge: there are at least three easy ways that use numpy to generate random arrays. How many ways can you find?"
   ]
  },
  {
   "cell_type": "code",
   "execution_count": 3,
   "metadata": {},
   "outputs": [],
   "source": [
    "a = np.random.random((2,3,5))"
   ]
  },
  {
   "cell_type": "markdown",
   "metadata": {},
   "source": [
    "4. Print a."
   ]
  },
  {
   "cell_type": "code",
   "execution_count": 4,
   "metadata": {},
   "outputs": [
    {
     "name": "stdout",
     "output_type": "stream",
     "text": [
      "[[[0.99109212 0.16306455 0.14594676 0.03710005 0.87007128]\n",
      "  [0.200333   0.43375796 0.61983939 0.04492597 0.0629702 ]\n",
      "  [0.87843213 0.36643684 0.33514689 0.06621487 0.62798453]]\n",
      "\n",
      " [[0.78817822 0.32683418 0.29603982 0.43395613 0.56067885]\n",
      "  [0.27845384 0.11146818 0.9344507  0.21278814 0.54583175]\n",
      "  [0.13716925 0.99753991 0.80226219 0.02371301 0.49273111]]]\n"
     ]
    }
   ],
   "source": [
    "print(a)"
   ]
  },
  {
   "cell_type": "markdown",
   "metadata": {},
   "source": [
    "5. Create a 5x2x3 3-dimensional array with all values equaling 1.\n",
    "Assign the array to variable \"b\""
   ]
  },
  {
   "cell_type": "code",
   "execution_count": 5,
   "metadata": {},
   "outputs": [],
   "source": [
    "b = np.ones((5,2,3))"
   ]
  },
  {
   "cell_type": "markdown",
   "metadata": {},
   "source": [
    "6. Print b."
   ]
  },
  {
   "cell_type": "code",
   "execution_count": 6,
   "metadata": {},
   "outputs": [
    {
     "name": "stdout",
     "output_type": "stream",
     "text": [
      "[[[1. 1. 1.]\n",
      "  [1. 1. 1.]]\n",
      "\n",
      " [[1. 1. 1.]\n",
      "  [1. 1. 1.]]\n",
      "\n",
      " [[1. 1. 1.]\n",
      "  [1. 1. 1.]]\n",
      "\n",
      " [[1. 1. 1.]\n",
      "  [1. 1. 1.]]\n",
      "\n",
      " [[1. 1. 1.]\n",
      "  [1. 1. 1.]]]\n"
     ]
    }
   ],
   "source": [
    "print(b)"
   ]
  },
  {
   "cell_type": "markdown",
   "metadata": {},
   "source": [
    "7. Do a and b have the same size? How do you prove that in Python code?"
   ]
  },
  {
   "cell_type": "code",
   "execution_count": 7,
   "metadata": {},
   "outputs": [
    {
     "name": "stdout",
     "output_type": "stream",
     "text": [
      "a and b arrays have the same size\n"
     ]
    }
   ],
   "source": [
    "if a.size == b.size:\n",
    "        print('a and b arrays have the same size')"
   ]
  },
  {
   "cell_type": "markdown",
   "metadata": {},
   "source": [
    "8. Are you able to add a and b? Why or why not?"
   ]
  },
  {
   "cell_type": "code",
   "execution_count": 8,
   "metadata": {},
   "outputs": [
    {
     "name": "stdout",
     "output_type": "stream",
     "text": [
      "It's not possible to add 2 different arrays with different dimensions\n"
     ]
    }
   ],
   "source": [
    "try:\n",
    "    c = a+b\n",
    "    print(c)\n",
    "except:\n",
    "    print(\"It's not possible to add 2 different arrays with different dimensions\")"
   ]
  },
  {
   "cell_type": "markdown",
   "metadata": {},
   "source": [
    "9. Transpose b so that it has the same structure of a (i.e. become a 2x3x5 array). Assign the transposed array to varialbe \"c\"."
   ]
  },
  {
   "cell_type": "code",
   "execution_count": 9,
   "metadata": {},
   "outputs": [
    {
     "name": "stdout",
     "output_type": "stream",
     "text": [
      "[[[1. 1. 1. 1. 1.]\n",
      "  [1. 1. 1. 1. 1.]\n",
      "  [1. 1. 1. 1. 1.]]\n",
      "\n",
      " [[1. 1. 1. 1. 1.]\n",
      "  [1. 1. 1. 1. 1.]\n",
      "  [1. 1. 1. 1. 1.]]]\n"
     ]
    }
   ],
   "source": [
    "c = b.transpose(1,2,0)\n",
    "#d = np.array(a).reshape(2,3,5) > it's not the same\n",
    "print(c)"
   ]
  },
  {
   "cell_type": "markdown",
   "metadata": {},
   "source": [
    "10. Try to add a and c. Now it should work. Assign the sum to varialbe \"d\". But why does it work now?"
   ]
  },
  {
   "cell_type": "code",
   "execution_count": 10,
   "metadata": {},
   "outputs": [],
   "source": [
    "d = a + c\n",
    "#Because they have the same dimension"
   ]
  },
  {
   "cell_type": "markdown",
   "metadata": {},
   "source": [
    "11. Print a and d. Notice the difference and relation of the two array in terms of the values? Explain."
   ]
  },
  {
   "cell_type": "code",
   "execution_count": 11,
   "metadata": {},
   "outputs": [
    {
     "name": "stdout",
     "output_type": "stream",
     "text": [
      "[[[0.99109212 0.16306455 0.14594676 0.03710005 0.87007128]\n",
      "  [0.200333   0.43375796 0.61983939 0.04492597 0.0629702 ]\n",
      "  [0.87843213 0.36643684 0.33514689 0.06621487 0.62798453]]\n",
      "\n",
      " [[0.78817822 0.32683418 0.29603982 0.43395613 0.56067885]\n",
      "  [0.27845384 0.11146818 0.9344507  0.21278814 0.54583175]\n",
      "  [0.13716925 0.99753991 0.80226219 0.02371301 0.49273111]]]\n",
      "[[[1.99109212 1.16306455 1.14594676 1.03710005 1.87007128]\n",
      "  [1.200333   1.43375796 1.61983939 1.04492597 1.0629702 ]\n",
      "  [1.87843213 1.36643684 1.33514689 1.06621487 1.62798453]]\n",
      "\n",
      " [[1.78817822 1.32683418 1.29603982 1.43395613 1.56067885]\n",
      "  [1.27845384 1.11146818 1.9344507  1.21278814 1.54583175]\n",
      "  [1.13716925 1.99753991 1.80226219 1.02371301 1.49273111]]]\n"
     ]
    }
   ],
   "source": [
    "print (a)\n",
    "print (d)"
   ]
  },
  {
   "cell_type": "markdown",
   "metadata": {},
   "source": [
    "12. Multiply a and c. Assign the result to e."
   ]
  },
  {
   "cell_type": "code",
   "execution_count": 12,
   "metadata": {},
   "outputs": [
    {
     "name": "stdout",
     "output_type": "stream",
     "text": [
      "e and a are equal\n"
     ]
    }
   ],
   "source": [
    "e = a*c\n",
    "if np.array_equal(e,a):\n",
    "    print(\"e and a are equal\")\n",
    "else:\n",
    "    print(\"e and a are NOT equal\")\n",
    "#in this operation evary element is multyplied for 1 "
   ]
  },
  {
   "cell_type": "markdown",
   "metadata": {},
   "source": [
    "14. Identify the max, min, and mean values in d. Assign those values to variables \"d_max\", \"d_min\", and \"d_mean\""
   ]
  },
  {
   "cell_type": "code",
   "execution_count": 13,
   "metadata": {},
   "outputs": [
    {
     "name": "stdout",
     "output_type": "stream",
     "text": [
      "1.9975399109651986\n",
      "1.0237130080205692\n",
      "1.4261803941292703\n"
     ]
    }
   ],
   "source": [
    "d_max = d.max()\n",
    "print(d_max)\n",
    "d_min = d.min()\n",
    "print(d_min)\n",
    "d_mean = d.mean()\n",
    "print(d_mean)"
   ]
  },
  {
   "cell_type": "markdown",
   "metadata": {},
   "source": [
    "15. Now we want to label the values in d. First create an empty array \"f\" with the same shape (i.e. 2x3x5) as d using `np.empty`."
   ]
  },
  {
   "cell_type": "code",
   "execution_count": 14,
   "metadata": {},
   "outputs": [
    {
     "name": "stdout",
     "output_type": "stream",
     "text": [
      "[[[1.99109212 1.16306455 1.14594676 1.03710005 1.87007128]\n",
      "  [1.200333   1.43375796 1.61983939 1.04492597 1.0629702 ]\n",
      "  [1.87843213 1.36643684 1.33514689 1.06621487 1.62798453]]\n",
      "\n",
      " [[1.78817822 1.32683418 1.29603982 1.43395613 1.56067885]\n",
      "  [1.27845384 1.11146818 1.9344507  1.21278814 1.54583175]\n",
      "  [1.13716925 1.99753991 1.80226219 1.02371301 1.49273111]]]\n"
     ]
    }
   ],
   "source": [
    "f = np.empty([2,3,5])\n",
    "print(f)"
   ]
  },
  {
   "cell_type": "markdown",
   "metadata": {},
   "source": [
    "16. Populate the values in f. For each value in d, if it's larger than d_min but smaller than d_mean, assign 25 to the corresponding value in f.\n",
    "If a value in d is larger than d_mean but smaller than d_max, assign 75 to the corresponding value in f.\n",
    "If a value equals to d_mean, assign 50 to the corresponding value in f.\n",
    "Assign 0 to the corresponding value(s) in f for d_min in d.\n",
    "Assign 100 to the corresponding value(s) in f for d_max in d.\n",
    "In the end, f should have only the following values: 0, 25, 50, 75, and 100.\n",
    "Note: you don't have to use Numpy in this question."
   ]
  },
  {
   "cell_type": "code",
   "execution_count": 25,
   "metadata": {},
   "outputs": [
    {
     "data": {
      "text/plain": [
       "\" Another option to solve it but I couldnt finish\\nprint(f.shape)\\nprint(d.shape)\\nfor xf,xd in f,d:\\n    print(xf)\\n    print(xd)\\n    for yf,yd in xf,xd:\\n        for zf,zd in yf,yd:\\n            #print ('-',z)\\n            if zd>d_min and zd<d_mean:\\n                zf = 25\\n                if zd>d_mean and zd<d_max:\\n                    zf=75\\n                    if zd==d_mean:\\n                        zf=50\\n                        if zd==d_min:\\n                            zf=0\\n                            if zd==d_max:\\n                                zf=100\\nprint(d)\\n\""
      ]
     },
     "execution_count": 25,
     "metadata": {},
     "output_type": "execute_result"
    }
   ],
   "source": [
    "#print(f.shape)\n",
    "#print(d.shape)\n",
    "\n",
    "#print(d_min)\n",
    "#print(d_mean)\n",
    "#print(d_max)\n",
    "\n",
    "#print(d)\n",
    "f_list=[]\n",
    "for x in d:\n",
    "    #print(x)\n",
    "    for y in x:\n",
    "        for z in y:\n",
    "            #print ('-',z)\n",
    "            if z>d_min and z<d_mean:\n",
    "                f_list.append(25)\n",
    "            elif z>d_mean and z<d_max:\n",
    "                f_list.append(75)\n",
    "            elif z==d_mean:\n",
    "                f_list.append(50)\n",
    "            elif z==d_min:\n",
    "                f_list.append(0)\n",
    "            elif z==d_max:\n",
    "                f_list.append(100)\n",
    "                \n",
    "f = np.array(f_list).reshape(2,3,5)\n",
    "#print(f)\n",
    "\n",
    "\"\"\" Another option to solve it but I couldnt finish\n",
    "print(f.shape)\n",
    "print(d.shape)\n",
    "for xf,xd in f,d:\n",
    "    print(xf)\n",
    "    print(xd)\n",
    "    for yf,yd in xf,xd:\n",
    "        for zf,zd in yf,yd:\n",
    "            #print ('-',z)\n",
    "            if zd>d_min and zd<d_mean:\n",
    "                zf = 25\n",
    "                if zd>d_mean and zd<d_max:\n",
    "                    zf=75\n",
    "                    if zd==d_mean:\n",
    "                        zf=50\n",
    "                        if zd==d_min:\n",
    "                            zf=0\n",
    "                            if zd==d_max:\n",
    "                                zf=100\n",
    "print(d)\n",
    "\"\"\""
   ]
  },
  {
   "cell_type": "markdown",
   "metadata": {},
   "source": [
    "17. Print d and f. Do you have your expected f?\n",
    "For instance, if your d is:\n",
    "\n",
    "array([[[1.85836099, 1.67064465, 1.62576044, 1.40243961, 1.88454931],\n",
    "        [1.75354326, 1.69403643, 1.36729252, 1.61415071, 1.12104981],\n",
    "        [1.72201435, 1.1862918 , 1.87078449, 1.7726778 , 1.88180042]],\n",
    "       [[1.44747908, 1.31673383, 1.02000951, 1.52218947, 1.97066381],\n",
    "        [1.79129243, 1.74983003, 1.96028037, 1.85166831, 1.65450881],\n",
    "        [1.18068344, 1.9587381 , 1.00656599, 1.93402165, 1.73514584]]])\n",
    "Your f should be:\n",
    "array([[[ 75.,  75.,  75.,  25.,  75.],\n",
    "        [ 75.,  75.,  25.,  25.,  25.],\n",
    "        [ 75.,  25.,  75.,  75.,  75.]],\n",
    "       [[ 25.,  25.,  25.,  25., 100.],\n",
    "        [ 75.,  75.,  75.,  75.,  75.],\n",
    "        [ 25.,  75.,   0.,  75.,  75.]]])"
   ]
  },
  {
   "cell_type": "code",
   "execution_count": 24,
   "metadata": {},
   "outputs": [
    {
     "name": "stdout",
     "output_type": "stream",
     "text": [
      "d array\n",
      "[[[1.99109212 1.16306455 1.14594676 1.03710005 1.87007128]\n",
      "  [1.200333   1.43375796 1.61983939 1.04492597 1.0629702 ]\n",
      "  [1.87843213 1.36643684 1.33514689 1.06621487 1.62798453]]\n",
      "\n",
      " [[1.78817822 1.32683418 1.29603982 1.43395613 1.56067885]\n",
      "  [1.27845384 1.11146818 1.9344507  1.21278814 1.54583175]\n",
      "  [1.13716925 1.99753991 1.80226219 1.02371301 1.49273111]]]\n",
      "f array\n",
      "[[[ 75  25  25  25  75]\n",
      "  [ 25  75  75  25  25]\n",
      "  [ 75  25  25  25  75]]\n",
      "\n",
      " [[ 75  25  25  75  75]\n",
      "  [ 25  25  75  25  75]\n",
      "  [ 25 100  75   0  75]]]\n"
     ]
    }
   ],
   "source": [
    "print(\"d array\")\n",
    "print(d)\n",
    "print(\"f array\")\n",
    "print(f)\n",
    "#I checket it in last exercise"
   ]
  },
  {
   "cell_type": "markdown",
   "metadata": {},
   "source": [
    "18. Bonus question: instead of using numbers (i.e. 0, 25, 50, 75, and 100), how to use string values \n",
    "(\"A\", \"B\", \"C\", \"D\", and \"E\") to label the array elements? You are expecting the result to be:\n",
    "\n",
    "array([[[ 'D',  'D',  'D',  'B',  'D'],\n",
    "        [ 'D',  'D',  'B',  'B',  'B'],\n",
    "        [ 'D',  'B',  'D',  'D',  'D']],\n",
    "       [[ 'B',  'B',  'B',  'B',  'E'],\n",
    "        [ 'D',  'D',  'D',  'D',  'D'],\n",
    "        [ 'B',  'D',   'A',  'D', 'D']]])\n",
    "Again, you don't need Numpy in this question.\n",
    "\"\"\""
   ]
  },
  {
   "cell_type": "code",
   "execution_count": null,
   "metadata": {},
   "outputs": [],
   "source": []
  }
 ],
 "metadata": {
  "kernelspec": {
   "display_name": "Python [conda env:data_env]",
   "language": "python",
   "name": "conda-env-data_env-py"
  },
  "language_info": {
   "codemirror_mode": {
    "name": "ipython",
    "version": 3
   },
   "file_extension": ".py",
   "mimetype": "text/x-python",
   "name": "python",
   "nbconvert_exporter": "python",
   "pygments_lexer": "ipython3",
   "version": "3.7.5"
  }
 },
 "nbformat": 4,
 "nbformat_minor": 4
}
